{
 "cells": [
  {
   "cell_type": "markdown",
   "metadata": {},
   "source": [
    "# Lab Two\n",
    "---\n",
    "\n",
    "Ok for this lab we're going to reiterate a lot of the things that we went over in class.\n",
    "\n",
    "Our Goals are:\n",
    "- Conditionals\n",
    "    - If\n",
    "    - Else\n",
    "    - Else If"
   ]
  },
  {
   "cell_type": "code",
   "execution_count": 3,
   "metadata": {},
   "outputs": [
    {
     "name": "stdout",
     "output_type": "stream",
     "text": [
      "Stan LOONA\n"
     ]
    }
   ],
   "source": [
    "// Make an if statement\n",
    "\n",
    "if (34>21){\n",
    "    System.out.println(\"Stan LOONA\");\n",
    "}"
   ]
  },
  {
   "cell_type": "code",
   "execution_count": 10,
   "metadata": {},
   "outputs": [
    {
     "name": "stdout",
     "output_type": "stream",
     "text": [
      "Change your opinion\n"
     ]
    }
   ],
   "source": [
    "// Make an if, else statement where the else statement triggers\n",
    "\n",
    "if (5>6){\n",
    "    System.out.println(\"Nicki Minaj is the queen of rap\");}\n",
    "\n",
    "else {\n",
    "    System.out.println(\"Change your opinion\");\n",
    "}"
   ]
  },
  {
   "cell_type": "code",
   "execution_count": 24,
   "metadata": {},
   "outputs": [
    {
     "name": "stdout",
     "output_type": "stream",
     "text": [
      "do something\n"
     ]
    }
   ],
   "source": [
    "// Make an if, else if, else statement where the else if statement triggers\n",
    "\n",
    "// What Should I Do??\n",
    "\n",
    "int todo = 5;\n",
    "\n",
    "if (todo < 0) {\n",
    "    System.out.println(\"nap\");}\n",
    "\n",
    "else if (todo == 5){\n",
    "    System.out.println(\"do something\");\n",
    "}\n",
    "else{\n",
    "    System.out.println(\"nap\");\n",
    "}"
   ]
  },
  {
   "cell_type": "code",
   "execution_count": 27,
   "metadata": {},
   "outputs": [
    {
     "name": "stdout",
     "output_type": "stream",
     "text": [
      "I want a \n",
      "drink\n"
     ]
    }
   ],
   "source": [
    "// Make 2 variables and use them in an if else conditional\n",
    "\n",
    "char day ='m';\n",
    "int j = 5;\n",
    "System.out.println(\"I want a \");\n",
    "if (j==3){\n",
    "    System.out.println(day+5);\n",
    "}\n",
    "else{\n",
    "    System.out.println(\"drink\");\n",
    "}"
   ]
  },
  {
   "cell_type": "code",
   "execution_count": 34,
   "metadata": {},
   "outputs": [
    {
     "name": "stdout",
     "output_type": "stream",
     "text": [
      "I miss python\n"
     ]
    }
   ],
   "source": [
    "// Make an if statement using 2 variables and an AND(&&) statement\n",
    "\n",
    "if (31>6 && todo==5);{\n",
    "    System.out.println(\"I miss python\");\n",
    "}"
   ]
  },
  {
   "cell_type": "code",
   "execution_count": 45,
   "metadata": {},
   "outputs": [
    {
     "name": "stdout",
     "output_type": "stream",
     "text": [
      "why\n"
     ]
    }
   ],
   "source": [
    "// Make an if statement using 2 variables and an OR(||) statement\n",
    "\n",
    "if ((1+1)==2 || (6+7)==14);{\n",
    "    System.out.println(\"why\");\n",
    "}"
   ]
  }
 ],
 "metadata": {
  "kernelspec": {
   "display_name": "Java",
   "name": "java"
  },
  "language_info": {
   "name": "java"
  },
  "orig_nbformat": 2
 },
 "nbformat": 4,
 "nbformat_minor": 2
}