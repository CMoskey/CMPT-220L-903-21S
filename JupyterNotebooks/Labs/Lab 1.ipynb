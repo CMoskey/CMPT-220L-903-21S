{
 "cells": [
  {
   "cell_type": "markdown",
   "metadata": {},
   "source": [
    "# Lab One\n",
    "---\n",
    "\n",
    "Ok for this lab we're going to reiterate a lot of the things that we went over in class.\n",
    "\n",
    "Our Goals are:\n",
    "- Binary Math\n",
    "- Defining Variables\n",
    "    - Primitive Types\n",
    "    - Reference Types\n",
    "- Using Math\n",
    "- Manipulating Variables"
   ]
  },
  {
   "cell_type": "markdown",
   "metadata": {},
   "source": [
    "For this section I just want you to type the answer. I know that you can just look this up but try and do the math. \n",
    "### What is 1000 in Decimal\n",
    "8\n",
    "\n",
    "### What is 1000 1001 in Decimal (This is a byte. It's just split for readability)\n",
    "137\n",
    "\n",
    "### What is 1010 1111 in Decimal (This is a byte. It's just split for readability)\n",
    "175\n",
    "\n",
    "### What is 0101 1010 in Decimal (This is a byte. It's just split for readability)\n",
    "90\n"
   ]
  },
  {
   "cell_type": "code",
   "execution_count": 30,
   "metadata": {},
   "outputs": [
    {
     "name": "stdout",
     "output_type": "stream",
     "text": [
      "true\n",
      "100\n",
      "11432\n",
      "24\n",
      "182342\n",
      "4.3\n",
      "6.9\n",
      "j\n"
     ]
    }
   ],
   "source": [
    "// Define 8 variables, one of each type listed: [boolean, byte, short, int, long, float, double, char]. Print all 8 of them.\n",
    "\n",
    "boolean mk = true;\n",
    "byte j = 100;\n",
    "short r = 11432;\n",
    "int apples = 24;\n",
    "long bananas = 182342;\n",
    "float tie = 4.3f;\n",
    "double tip = 6.9;\n",
    "char letter = 'j';\n",
    "\n",
    "System.out.println(mk);\n",
    "System.out.println(j);\n",
    "System.out.println(r);\n",
    "System.out.println(apples);\n",
    "System.out.println(bananas);\n",
    "System.out.println(tie);\n",
    "System.out.println(tip);\n",
    "System.out.println(letter);\n",
    "\n",
    "\n",
    "\n",
    "\n"
   ]
  },
  {
   "cell_type": "code",
   "execution_count": 52,
   "metadata": {},
   "outputs": [
    {
     "name": "stdout",
     "output_type": "stream",
     "text": [
      "16\n",
      "-2\n",
      "63\n",
      "0\n",
      "7\n"
     ]
    }
   ],
   "source": [
    "// With whatever variables you'd like demonstrate the following: [Addition, Subtraction, Division, Multiplication, Modulo]. Print all 5.\n",
    "\n",
    "int a = 7;\n",
    "int b = 9;\n",
    "\n",
    "System.out.println(a+b);\n",
    "System.out.println(a-b);\n",
    "System.out.println(a*b);\n",
    "System.out.println(a/b);\n",
    "System.out.println(a%b);"
   ]
  },
  {
   "cell_type": "code",
   "execution_count": null,
   "metadata": {},
   "outputs": [],
   "source": [
    "// Make me a list of any type\n",
    "\n",
    "int list[]= {1,2,5,6,3,2,7};"
   ]
  },
  {
   "cell_type": "code",
   "execution_count": 53,
   "metadata": {},
   "outputs": [
    {
     "name": "stdout",
     "output_type": "stream",
     "text": [
      "57\n"
     ]
    }
   ],
   "source": [
    "// Using 2 variables and addition print the number 57\n",
    "\n",
    "int y = 14;\n",
    "int x = 43;\n",
    "\n",
    "System.out.println(y+x)"
   ]
  },
  {
   "cell_type": "code",
   "execution_count": 61,
   "metadata": {},
   "outputs": [
    {
     "name": "stdout",
     "output_type": "stream",
     "text": [
      "gin\n",
      "gin and tonic\n"
     ]
    }
   ],
   "source": [
    "// Define a variable and print it out. Then alter the same variable and print it out. This can be through string concatenation or addition, etc.\n",
    "\n",
    "String g = \"gin\";\n",
    "String f = \" and tonic\";\n",
    "\n",
    "System.out.println(g);\n",
    "System.out.println(g+f);"
   ]
  }
 ],
 "metadata": {
  "kernelspec": {
   "display_name": "Java",
   "language": "java",
   "name": "java"
  },
  "language_info": {
   "codemirror_mode": "java",
   "file_extension": ".jshell",
   "mimetype": "text/x-java-source",
   "name": "Java",
   "pygments_lexer": "java",
   "version": "15.0.2+7-27"
  },
  "orig_nbformat": 2
 },
 "nbformat": 4,
 "nbformat_minor": 2
}